{
 "cells": [
  {
   "cell_type": "code",
   "execution_count": 314,
   "metadata": {},
   "outputs": [],
   "source": [
    "import pandas as pd\n",
    "import numpy as np"
   ]
  },
  {
   "cell_type": "code",
   "execution_count": 315,
   "metadata": {},
   "outputs": [],
   "source": [
    "#Carga de Datasets\n",
    "amazon_titles_df = pd.read_csv('Datasets/amazon_prime_titles.csv',skipinitialspace = True)\n",
    "disney_plus_titles = pd.read_csv('Datasets/disney_plus_titles.csv')\n",
    "hulu_titles = pd.read_csv('Datasets/hulu_titles.csv')\n",
    "netflix_titles = pd.read_json('Datasets/netflix_titles.json')"
   ]
  },
  {
   "cell_type": "code",
   "execution_count": 316,
   "metadata": {},
   "outputs": [
    {
     "name": "stdout",
     "output_type": "stream",
     "text": [
      "show_id            0\n",
      "type               0\n",
      "title              0\n",
      "director        2082\n",
      "cast            1233\n",
      "country         8996\n",
      "date_added      9513\n",
      "release_year       0\n",
      "rating           337\n",
      "duration           0\n",
      "listed_in          0\n",
      "description        0\n",
      "dtype: int64\n",
      "\n",
      "Longitud Dataframe:  9668\n"
     ]
    }
   ],
   "source": [
    "#Limpieza de del Dataset de titulos de Amazon\n",
    "\n",
    "print(amazon_titles_df.isna().sum()) #Cantidad de nulos por columna\n",
    "print('')\n",
    "print('Longitud Dataframe: ',len(amazon_titles_df))"
   ]
  },
  {
   "cell_type": "code",
   "execution_count": 317,
   "metadata": {},
   "outputs": [],
   "source": [
    "#Se quita el caracter 's' de la columna id, dejando solo números.\n",
    "\n",
    "amazon_titles_df['show_id'] = amazon_titles_df['show_id'].apply(lambda x: x.split('s')[1])"
   ]
  },
  {
   "cell_type": "code",
   "execution_count": 318,
   "metadata": {},
   "outputs": [
    {
     "data": {
      "text/plain": [
       "Movie      7814\n",
       "TV Show    1854\n",
       "Name: type, dtype: int64"
      ]
     },
     "execution_count": 318,
     "metadata": {},
     "output_type": "execute_result"
    }
   ],
   "source": [
    "#Vemos cuales son los valores que pueden llegar a aparecer en la columna 'type'\n",
    "\n",
    "amazon_titles_df.type.value_counts()"
   ]
  },
  {
   "cell_type": "code",
   "execution_count": 319,
   "metadata": {},
   "outputs": [],
   "source": [
    "amazon_titles_df.title = amazon_titles_df.title.str.title()"
   ]
  },
  {
   "cell_type": "code",
   "execution_count": 320,
   "metadata": {},
   "outputs": [
    {
     "data": {
      "text/html": [
       "<div>\n",
       "<style scoped>\n",
       "    .dataframe tbody tr th:only-of-type {\n",
       "        vertical-align: middle;\n",
       "    }\n",
       "\n",
       "    .dataframe tbody tr th {\n",
       "        vertical-align: top;\n",
       "    }\n",
       "\n",
       "    .dataframe thead th {\n",
       "        text-align: right;\n",
       "    }\n",
       "</style>\n",
       "<table border=\"1\" class=\"dataframe\">\n",
       "  <thead>\n",
       "    <tr style=\"text-align: right;\">\n",
       "      <th></th>\n",
       "      <th>Director Name</th>\n",
       "    </tr>\n",
       "    <tr>\n",
       "      <th>IdDirector</th>\n",
       "      <th></th>\n",
       "    </tr>\n",
       "  </thead>\n",
       "  <tbody>\n",
       "    <tr>\n",
       "      <th>0</th>\n",
       "      <td>Don McKellar</td>\n",
       "    </tr>\n",
       "    <tr>\n",
       "      <th>1</th>\n",
       "      <td>Girish Joshi</td>\n",
       "    </tr>\n",
       "    <tr>\n",
       "      <th>2</th>\n",
       "      <td>Josh Webber</td>\n",
       "    </tr>\n",
       "    <tr>\n",
       "      <th>3</th>\n",
       "      <td>Sonia Anderson</td>\n",
       "    </tr>\n",
       "    <tr>\n",
       "      <th>4</th>\n",
       "      <td>Giles Foster</td>\n",
       "    </tr>\n",
       "    <tr>\n",
       "      <th>...</th>\n",
       "      <td>...</td>\n",
       "    </tr>\n",
       "    <tr>\n",
       "      <th>6272</th>\n",
       "      <td>Lori Silverbush</td>\n",
       "    </tr>\n",
       "    <tr>\n",
       "      <th>6273</th>\n",
       "      <td>John-Paul Davidson</td>\n",
       "    </tr>\n",
       "    <tr>\n",
       "      <th>6274</th>\n",
       "      <td>Stephen Warbeck</td>\n",
       "    </tr>\n",
       "    <tr>\n",
       "      <th>6275</th>\n",
       "      <td>Emily Skye</td>\n",
       "    </tr>\n",
       "    <tr>\n",
       "      <th>6276</th>\n",
       "      <td>Steve Barker</td>\n",
       "    </tr>\n",
       "  </tbody>\n",
       "</table>\n",
       "<p>6277 rows × 1 columns</p>\n",
       "</div>"
      ],
      "text/plain": [
       "                 Director Name\n",
       "IdDirector                    \n",
       "0                 Don McKellar\n",
       "1                 Girish Joshi\n",
       "2                  Josh Webber\n",
       "3               Sonia Anderson\n",
       "4                 Giles Foster\n",
       "...                        ...\n",
       "6272           Lori Silverbush\n",
       "6273        John-Paul Davidson\n",
       "6274           Stephen Warbeck\n",
       "6275                Emily Skye\n",
       "6276              Steve Barker\n",
       "\n",
       "[6277 rows x 1 columns]"
      ]
     },
     "execution_count": 320,
     "metadata": {},
     "output_type": "execute_result"
    }
   ],
   "source": [
    "#Creacion de una tabla con todos los directores y su respectivo ID\n",
    "\n",
    "amazon_titles_df.director.fillna('Sin Dato', inplace=True)\n",
    "\n",
    "all_directors = []\n",
    "\n",
    "for directors in amazon_titles_df.director:\n",
    "    directors_split = directors.split(',')\n",
    "    for splited_directors in directors_split:\n",
    "        all_directors.append(splited_directors)\n",
    "\n",
    "all_directors = pd.Series(all_directors)\n",
    "all_directors = pd.unique(all_directors)\n",
    "all_directors_df = pd.DataFrame({'IdDirector': np.arange(len(all_directors)), 'Director Name': all_directors})\n",
    "all_directors_df.set_index('IdDirector',inplace=True)\n",
    "all_directors_df"
   ]
  },
  {
   "cell_type": "code",
   "execution_count": 405,
   "metadata": {},
   "outputs": [
    {
     "data": {
      "text/html": [
       "<div>\n",
       "<style scoped>\n",
       "    .dataframe tbody tr th:only-of-type {\n",
       "        vertical-align: middle;\n",
       "    }\n",
       "\n",
       "    .dataframe tbody tr th {\n",
       "        vertical-align: top;\n",
       "    }\n",
       "\n",
       "    .dataframe thead th {\n",
       "        text-align: right;\n",
       "    }\n",
       "</style>\n",
       "<table border=\"1\" class=\"dataframe\">\n",
       "  <thead>\n",
       "    <tr style=\"text-align: right;\">\n",
       "      <th></th>\n",
       "      <th>Actor Name</th>\n",
       "    </tr>\n",
       "    <tr>\n",
       "      <th>IdActor</th>\n",
       "      <th></th>\n",
       "    </tr>\n",
       "  </thead>\n",
       "  <tbody>\n",
       "    <tr>\n",
       "      <th>0</th>\n",
       "      <td>Brendan Gleeson</td>\n",
       "    </tr>\n",
       "    <tr>\n",
       "      <th>1</th>\n",
       "      <td>Taylor Kitsch</td>\n",
       "    </tr>\n",
       "    <tr>\n",
       "      <th>2</th>\n",
       "      <td>Gordon Pinsent</td>\n",
       "    </tr>\n",
       "    <tr>\n",
       "      <th>3</th>\n",
       "      <td>Mahesh Manjrekar</td>\n",
       "    </tr>\n",
       "    <tr>\n",
       "      <th>4</th>\n",
       "      <td>Abhay Mahajan</td>\n",
       "    </tr>\n",
       "    <tr>\n",
       "      <th>...</th>\n",
       "      <td>...</td>\n",
       "    </tr>\n",
       "    <tr>\n",
       "      <th>33825</th>\n",
       "      <td>Rita Cortese</td>\n",
       "    </tr>\n",
       "    <tr>\n",
       "      <th>33826</th>\n",
       "      <td>Laura Esquivel</td>\n",
       "    </tr>\n",
       "    <tr>\n",
       "      <th>33827</th>\n",
       "      <td>Nicolás Furtado</td>\n",
       "    </tr>\n",
       "    <tr>\n",
       "      <th>33828</th>\n",
       "      <td>Nicolas Goldschmidt</td>\n",
       "    </tr>\n",
       "    <tr>\n",
       "      <th>33829</th>\n",
       "      <td>Joseph Gilgun</td>\n",
       "    </tr>\n",
       "  </tbody>\n",
       "</table>\n",
       "<p>33830 rows × 1 columns</p>\n",
       "</div>"
      ],
      "text/plain": [
       "                   Actor Name\n",
       "IdActor                      \n",
       "0             Brendan Gleeson\n",
       "1               Taylor Kitsch\n",
       "2              Gordon Pinsent\n",
       "3            Mahesh Manjrekar\n",
       "4               Abhay Mahajan\n",
       "...                       ...\n",
       "33825            Rita Cortese\n",
       "33826          Laura Esquivel\n",
       "33827         Nicolás Furtado\n",
       "33828     Nicolas Goldschmidt\n",
       "33829           Joseph Gilgun\n",
       "\n",
       "[33830 rows x 1 columns]"
      ]
     },
     "execution_count": 405,
     "metadata": {},
     "output_type": "execute_result"
    }
   ],
   "source": [
    "#Creacion de una tabla con todos los actores y su respectivo ID\n",
    "\n",
    "amazon_titles_df.cast = amazon_titles_df.cast.str.strip()\n",
    "amazon_titles_df.cast = amazon_titles_df.cast.str.title()\n",
    "amazon_titles_df.cast = amazon_titles_df.cast.replace(np.nan,'Sin Dato')\n",
    "\n",
    "all_cast = []\n",
    "\n",
    "for cast in amazon_titles_df.cast:\n",
    "    splited_cast = cast.split(',')\n",
    "    for complete_cast in splited_cast:\n",
    "        all_cast.append(complete_cast)\n",
    "\n",
    "all_cast = pd.Series(all_cast)\n",
    "all_cast = pd.unique(all_cast)\n",
    "all_cast_df = pd.DataFrame({'IdActor': np.arange(len(all_cast)), 'Actor Name': all_cast})\n",
    "all_cast_df.set_index('IdActor', inplace=True)\n",
    "all_cast_df"
   ]
  },
  {
   "cell_type": "code",
   "execution_count": 325,
   "metadata": {},
   "outputs": [
    {
     "data": {
      "text/plain": [
       "0      2021-03-30\n",
       "1      2021-03-30\n",
       "2      2021-03-30\n",
       "3      2021-03-30\n",
       "4      2021-03-30\n",
       "          ...    \n",
       "9663          NaT\n",
       "9664          NaT\n",
       "9665          NaT\n",
       "9666          NaT\n",
       "9667          NaT\n",
       "Name: date_added, Length: 9668, dtype: datetime64[ns]"
      ]
     },
     "execution_count": 325,
     "metadata": {},
     "output_type": "execute_result"
    }
   ],
   "source": [
    "#Cambio de tipo de la columna a datetime\n",
    "\n",
    "amazon_titles_df['date_added'] = pd.to_datetime(amazon_titles_df['date_added'])\n",
    "amazon_titles_df['date_added']"
   ]
  },
  {
   "cell_type": "code",
   "execution_count": 401,
   "metadata": {},
   "outputs": [
    {
     "data": {
      "text/html": [
       "<div>\n",
       "<style scoped>\n",
       "    .dataframe tbody tr th:only-of-type {\n",
       "        vertical-align: middle;\n",
       "    }\n",
       "\n",
       "    .dataframe tbody tr th {\n",
       "        vertical-align: top;\n",
       "    }\n",
       "\n",
       "    .dataframe thead th {\n",
       "        text-align: right;\n",
       "    }\n",
       "</style>\n",
       "<table border=\"1\" class=\"dataframe\">\n",
       "  <thead>\n",
       "    <tr style=\"text-align: right;\">\n",
       "      <th></th>\n",
       "      <th>Genre</th>\n",
       "    </tr>\n",
       "    <tr>\n",
       "      <th>IdGenre</th>\n",
       "      <th></th>\n",
       "    </tr>\n",
       "  </thead>\n",
       "  <tbody>\n",
       "    <tr>\n",
       "      <th>0</th>\n",
       "      <td>Comedy</td>\n",
       "    </tr>\n",
       "    <tr>\n",
       "      <th>1</th>\n",
       "      <td>Drama</td>\n",
       "    </tr>\n",
       "    <tr>\n",
       "      <th>2</th>\n",
       "      <td>International</td>\n",
       "    </tr>\n",
       "    <tr>\n",
       "      <th>3</th>\n",
       "      <td>Action</td>\n",
       "    </tr>\n",
       "    <tr>\n",
       "      <th>4</th>\n",
       "      <td>Suspense</td>\n",
       "    </tr>\n",
       "    <tr>\n",
       "      <th>5</th>\n",
       "      <td>Documentary</td>\n",
       "    </tr>\n",
       "    <tr>\n",
       "      <th>6</th>\n",
       "      <td>Fantasy</td>\n",
       "    </tr>\n",
       "    <tr>\n",
       "      <th>7</th>\n",
       "      <td>Kids</td>\n",
       "    </tr>\n",
       "    <tr>\n",
       "      <th>8</th>\n",
       "      <td>Special Interest</td>\n",
       "    </tr>\n",
       "    <tr>\n",
       "      <th>9</th>\n",
       "      <td>Science Fiction</td>\n",
       "    </tr>\n",
       "    <tr>\n",
       "      <th>10</th>\n",
       "      <td>Adventure</td>\n",
       "    </tr>\n",
       "    <tr>\n",
       "      <th>11</th>\n",
       "      <td>Horror</td>\n",
       "    </tr>\n",
       "    <tr>\n",
       "      <th>12</th>\n",
       "      <td>Sports</td>\n",
       "    </tr>\n",
       "    <tr>\n",
       "      <th>13</th>\n",
       "      <td>Talk Show and Variety</td>\n",
       "    </tr>\n",
       "    <tr>\n",
       "      <th>14</th>\n",
       "      <td>Anime</td>\n",
       "    </tr>\n",
       "    <tr>\n",
       "      <th>15</th>\n",
       "      <td>Arts</td>\n",
       "    </tr>\n",
       "    <tr>\n",
       "      <th>16</th>\n",
       "      <td>Entertainment</td>\n",
       "    </tr>\n",
       "    <tr>\n",
       "      <th>17</th>\n",
       "      <td>and Culture</td>\n",
       "    </tr>\n",
       "    <tr>\n",
       "      <th>18</th>\n",
       "      <td>TV Shows</td>\n",
       "    </tr>\n",
       "    <tr>\n",
       "      <th>19</th>\n",
       "      <td>Animation</td>\n",
       "    </tr>\n",
       "    <tr>\n",
       "      <th>20</th>\n",
       "      <td>Music Videos and Concerts</td>\n",
       "    </tr>\n",
       "    <tr>\n",
       "      <th>21</th>\n",
       "      <td>Fitness</td>\n",
       "    </tr>\n",
       "    <tr>\n",
       "      <th>22</th>\n",
       "      <td>Faith and Spirituality</td>\n",
       "    </tr>\n",
       "    <tr>\n",
       "      <th>23</th>\n",
       "      <td>Military and War</td>\n",
       "    </tr>\n",
       "    <tr>\n",
       "      <th>24</th>\n",
       "      <td>Western</td>\n",
       "    </tr>\n",
       "    <tr>\n",
       "      <th>25</th>\n",
       "      <td>LGBTQ</td>\n",
       "    </tr>\n",
       "    <tr>\n",
       "      <th>26</th>\n",
       "      <td>Romance</td>\n",
       "    </tr>\n",
       "    <tr>\n",
       "      <th>27</th>\n",
       "      <td>Unscripted</td>\n",
       "    </tr>\n",
       "    <tr>\n",
       "      <th>28</th>\n",
       "      <td>Young Adult Audience</td>\n",
       "    </tr>\n",
       "    <tr>\n",
       "      <th>29</th>\n",
       "      <td>Arthouse</td>\n",
       "    </tr>\n",
       "    <tr>\n",
       "      <th>30</th>\n",
       "      <td>Historical</td>\n",
       "    </tr>\n",
       "  </tbody>\n",
       "</table>\n",
       "</div>"
      ],
      "text/plain": [
       "                             Genre\n",
       "IdGenre                           \n",
       "0                           Comedy\n",
       "1                            Drama\n",
       "2                    International\n",
       "3                           Action\n",
       "4                         Suspense\n",
       "5                      Documentary\n",
       "6                          Fantasy\n",
       "7                             Kids\n",
       "8                 Special Interest\n",
       "9                  Science Fiction\n",
       "10                       Adventure\n",
       "11                          Horror\n",
       "12                          Sports\n",
       "13           Talk Show and Variety\n",
       "14                           Anime\n",
       "15                            Arts\n",
       "16                   Entertainment\n",
       "17                     and Culture\n",
       "18                        TV Shows\n",
       "19                       Animation\n",
       "20       Music Videos and Concerts\n",
       "21                         Fitness\n",
       "22          Faith and Spirituality\n",
       "23                Military and War\n",
       "24                         Western\n",
       "25                           LGBTQ\n",
       "26                         Romance\n",
       "27                      Unscripted\n",
       "28            Young Adult Audience\n",
       "29                        Arthouse\n",
       "30                      Historical"
      ]
     },
     "execution_count": 401,
     "metadata": {},
     "output_type": "execute_result"
    }
   ],
   "source": [
    "#Creacion de columna de generos de cine con sus respectivos ID\n",
    "\n",
    "all_listed_in = []\n",
    "\n",
    "for genre in amazon_titles_df.listed_in:\n",
    "    separed_genre = genre.split(',')\n",
    "    for all_genres_separed in separed_genre:\n",
    "        all_listed_in.append(all_genres_separed)\n",
    "\n",
    "all_listed_in = pd.Series(all_listed_in)\n",
    "all_listed_in = pd.unique(all_listed_in)\n",
    "all_listed_in_df = pd.DataFrame({'IdGenre': np.arange(len(all_listed_in)), 'Genre': all_listed_in})\n",
    "all_listed_in_df['Genre'] = all_listed_in_df['Genre'].str.strip()\n",
    "all_listed_in_df.drop_duplicates(subset=['Genre'], inplace=True)\n",
    "all_listed_in_df.IdGenre = np.arange(len(all_listed_in_df))\n",
    "all_listed_in_df.set_index('IdGenre', inplace=True)\n",
    "all_listed_in_df"
   ]
  },
  {
   "cell_type": "code",
   "execution_count": 399,
   "metadata": {},
   "outputs": [
    {
     "data": {
      "text/plain": [
       "show_id            0\n",
       "type               0\n",
       "title              0\n",
       "director           0\n",
       "cast               0\n",
       "country         8996\n",
       "date_added      9513\n",
       "release_year       0\n",
       "rating           337\n",
       "duration           0\n",
       "listed_in          0\n",
       "description        0\n",
       "dtype: int64"
      ]
     },
     "execution_count": 399,
     "metadata": {},
     "output_type": "execute_result"
    }
   ],
   "source": [
    "#Total de nulos después de la limpieza de datos de el primer .csv\n",
    "\n",
    "amazon_titles_df.isna().sum()"
   ]
  },
  {
   "cell_type": "code",
   "execution_count": 403,
   "metadata": {},
   "outputs": [
    {
     "data": {
      "text/plain": [
       "show_id           0\n",
       "type              0\n",
       "title             0\n",
       "director        473\n",
       "cast            190\n",
       "country         219\n",
       "date_added        3\n",
       "release_year      0\n",
       "rating            3\n",
       "duration          0\n",
       "listed_in         0\n",
       "description       0\n",
       "dtype: int64"
      ]
     },
     "execution_count": 403,
     "metadata": {},
     "output_type": "execute_result"
    }
   ],
   "source": [
    "#Comienzo a trabajar con el dataset de Disney+ viendo la cantidad de nulos que posee cada columna\n",
    "\n",
    "disney_plus_titles.isna().sum()"
   ]
  },
  {
   "cell_type": "code",
   "execution_count": 413,
   "metadata": {},
   "outputs": [],
   "source": [
    "#Se limpia la columna show_id quitandole la 's' a los números\n",
    "\n",
    "disney_plus_titles.show_id = np.arange(1,(len(disney_plus_titles)+1))"
   ]
  },
  {
   "cell_type": "code",
   "execution_count": 418,
   "metadata": {},
   "outputs": [
    {
     "data": {
      "text/plain": [
       "Movie      1052\n",
       "TV Show     398\n",
       "Name: type, dtype: int64"
      ]
     },
     "execution_count": 418,
     "metadata": {},
     "output_type": "execute_result"
    }
   ],
   "source": [
    "#Distribución de la columna 'type'\n",
    "\n",
    "disney_plus_titles.type.value_counts()"
   ]
  },
  {
   "cell_type": "code",
   "execution_count": null,
   "metadata": {},
   "outputs": [],
   "source": []
  }
 ],
 "metadata": {
  "kernelspec": {
   "display_name": "Python 3.10.6 64-bit",
   "language": "python",
   "name": "python3"
  },
  "language_info": {
   "codemirror_mode": {
    "name": "ipython",
    "version": 3
   },
   "file_extension": ".py",
   "mimetype": "text/x-python",
   "name": "python",
   "nbconvert_exporter": "python",
   "pygments_lexer": "ipython3",
   "version": "3.10.6"
  },
  "orig_nbformat": 4,
  "vscode": {
   "interpreter": {
    "hash": "dd62b2251affafe53e53d829791dddc9ce29f3f77174d02d011b68f10e3ab806"
   }
  }
 },
 "nbformat": 4,
 "nbformat_minor": 2
}
