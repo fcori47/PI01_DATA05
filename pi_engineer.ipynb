{
 "cells": [
  {
   "cell_type": "code",
   "execution_count": 204,
   "metadata": {},
   "outputs": [],
   "source": [
    "import pandas as pd\n",
    "import numpy as np"
   ]
  },
  {
   "cell_type": "code",
   "execution_count": 205,
   "metadata": {},
   "outputs": [],
   "source": [
    "#Carga de Datasets\n",
    "amazon_titles_df = pd.read_csv('Datasets/amazon_prime_titles.csv',skipinitialspace = True)\n",
    "disney_plus_titles = pd.read_csv('Datasets/disney_plus_titles.csv')\n",
    "hulu_titles = pd.read_csv('Datasets/hulu_titles.csv')\n",
    "netflix_titles = pd.read_json('Datasets/netflix_titles.json')"
   ]
  },
  {
   "cell_type": "code",
   "execution_count": 206,
   "metadata": {},
   "outputs": [
    {
     "name": "stdout",
     "output_type": "stream",
     "text": [
      "show_id            0\n",
      "type               0\n",
      "title              0\n",
      "director        2082\n",
      "cast            1233\n",
      "country         8996\n",
      "date_added      9513\n",
      "release_year       0\n",
      "rating           337\n",
      "duration           0\n",
      "listed_in          0\n",
      "description        0\n",
      "dtype: int64\n",
      "\n",
      "Longitud Dataframe:  9668\n"
     ]
    }
   ],
   "source": [
    "#Limpieza de del Dataset de titulos de Amazon\n",
    "\n",
    "print(amazon_titles_df.isna().sum()) #Cantidad de nulos por columna\n",
    "print('')\n",
    "print('Longitud Dataframe: ',len(amazon_titles_df))"
   ]
  },
  {
   "cell_type": "code",
   "execution_count": 207,
   "metadata": {},
   "outputs": [],
   "source": [
    "amazon_titles_df['show_id'] = amazon_titles_df['show_id'].apply(lambda x: x.split('s')[1])"
   ]
  },
  {
   "cell_type": "code",
   "execution_count": 208,
   "metadata": {},
   "outputs": [
    {
     "data": {
      "text/plain": [
       "Movie      7814\n",
       "TV Show    1854\n",
       "Name: type, dtype: int64"
      ]
     },
     "execution_count": 208,
     "metadata": {},
     "output_type": "execute_result"
    }
   ],
   "source": [
    "amazon_titles_df.type.value_counts()"
   ]
  },
  {
   "cell_type": "code",
   "execution_count": 209,
   "metadata": {},
   "outputs": [],
   "source": [
    "amazon_titles_df.title = amazon_titles_df.title.str.title()"
   ]
  },
  {
   "cell_type": "code",
   "execution_count": 210,
   "metadata": {},
   "outputs": [
    {
     "data": {
      "text/plain": [
       "0          Brendan Gleeson, Taylor Kitsch, Gordon Pinsent\n",
       "1        Mahesh Manjrekar, Abhay Mahajan, Sachin Khedekar\n",
       "2       Tom Sizemore, Lorenzo Lamas, Robert Lasardo, R...\n",
       "3       Interviews With: Pink, Adele, Beyoncé, Britney...\n",
       "4       Harry Dean Stanton, Kieran O'Brien, George Cos...\n",
       "                              ...                        \n",
       "9663                             Leo Gorcey, Bobby Jordan\n",
       "9664    Dick Vosburgh, Ronnie Stevens, Libby Morris, M...\n",
       "9665    Ray Stevenson, Julian Wadham, Richard Brake, M...\n",
       "9666    Esteban Recagno, Ezequiel Stremiz, Luciano Vit...\n",
       "9667    Michael Caine, Emily Mortimer, Joseph Gilgun, ...\n",
       "Name: cast, Length: 9668, dtype: object"
      ]
     },
     "execution_count": 210,
     "metadata": {},
     "output_type": "execute_result"
    }
   ],
   "source": [
    "amazon_titles_df['cast'] = amazon_titles_df['cast'].str.strip()\n",
    "amazon_titles_df['cast'] = amazon_titles_df['cast'].str.title()\n",
    "amazon_titles_df['cast']"
   ]
  },
  {
   "cell_type": "code",
   "execution_count": 219,
   "metadata": {},
   "outputs": [],
   "source": [
    "amazon_titles_df['date_added'] = pd.to_datetime(amazon_titles_df['date_added'])"
   ]
  },
  {
   "cell_type": "code",
   "execution_count": null,
   "metadata": {},
   "outputs": [],
   "source": []
  }
 ],
 "metadata": {
  "kernelspec": {
   "display_name": "Python 3.10.6 64-bit",
   "language": "python",
   "name": "python3"
  },
  "language_info": {
   "codemirror_mode": {
    "name": "ipython",
    "version": 3
   },
   "file_extension": ".py",
   "mimetype": "text/x-python",
   "name": "python",
   "nbconvert_exporter": "python",
   "pygments_lexer": "ipython3",
   "version": "3.10.6"
  },
  "orig_nbformat": 4,
  "vscode": {
   "interpreter": {
    "hash": "dd62b2251affafe53e53d829791dddc9ce29f3f77174d02d011b68f10e3ab806"
   }
  }
 },
 "nbformat": 4,
 "nbformat_minor": 2
}
