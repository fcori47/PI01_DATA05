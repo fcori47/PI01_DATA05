{
 "cells": [
  {
   "cell_type": "code",
   "execution_count": 114,
   "metadata": {},
   "outputs": [],
   "source": [
    "import pandas as pd\n",
    "import numpy as np\n",
    "from collections import Counter"
   ]
  },
  {
   "cell_type": "markdown",
   "metadata": {},
   "source": [
    "Máxima duración según tipo de film (película/serie), por plataforma y por año: El request debe ser: get_max_duration(año, plataforma, [min o season])"
   ]
  },
  {
   "cell_type": "code",
   "execution_count": 4,
   "metadata": {},
   "outputs": [],
   "source": [
    "#Función que ayuda a separar las columnas que contienen datos separados por \",\".\n",
    "\n",
    "def separation (column):\n",
    "    test = []\n",
    "    for item in column:\n",
    "        splited_item = item.split(' ')\n",
    "        test.append(int(splited_item[0]))\n",
    "        \n",
    "    return test"
   ]
  },
  {
   "cell_type": "code",
   "execution_count": 75,
   "metadata": {},
   "outputs": [],
   "source": [
    "def get_max_duration(year:int, platform:str, min_or_season:str):\n",
    "    df = pd.read_csv('Datasets/all_frames.csv')\n",
    "    df.drop(columns='Unnamed: 0', inplace=True)\n",
    "    df.duration = pd.Series(separation(df.duration))\n",
    "    df = df.loc[(df.release_year == year) & (df.platform == platform)]\n",
    "    \n",
    "    if min_or_season == 'min':\n",
    "        df = df.loc[df.type == 'Movie']\n",
    "    elif min_or_season == 'season':\n",
    "        df = df.loc[df.type == 'TV Show']\n",
    "    \n",
    "    result = df.sort_values(by='duration', ascending=False).head(1)\n",
    "    \n",
    "    for resultado in result.title: \n",
    "        return {'titulo': resultado}\n",
    "    "
   ]
  },
  {
   "cell_type": "code",
   "execution_count": 76,
   "metadata": {},
   "outputs": [
    {
     "data": {
      "text/plain": [
       "{'titulo': 'The House That Jack Built'}"
      ]
     },
     "execution_count": 76,
     "metadata": {},
     "output_type": "execute_result"
    }
   ],
   "source": [
    "get_max_duration(2018, 'Hulu', 'min')"
   ]
  },
  {
   "attachments": {},
   "cell_type": "markdown",
   "metadata": {},
   "source": [
    "Cantidad de veces que se repite un género y plataforma con mayor frecuencia del mismo. El request debe ser: get_listedin('genero')\n",
    "Como ejemplo de género pueden usar 'comedy', el cuál deberia devolverles un cunt de 2099 para la plataforma de amazon."
   ]
  },
  {
   "cell_type": "code",
   "execution_count": 59,
   "metadata": {},
   "outputs": [],
   "source": [
    "def get_listedin(genero):\n",
    "    df = pd.read_csv('Datasets/all_frames.csv')\n",
    "    df.drop(columns='Unnamed: 0', inplace=True)\n",
    "    df_amazon = df.loc[df.platform == 'Amazon Prime']\n",
    "    df_disney = df.loc[df.platform == 'Disney+']\n",
    "    df_hulu = df.loc[df.platform == 'Hulu']\n",
    "    df_netflix = df.loc[df.platform == 'Netflix']\n",
    "    \n",
    "    listed_in_by_platform = []\n",
    "    amazon_genre = []\n",
    "    netflix_genre = []\n",
    "    hulu_genre = []\n",
    "    disney_genre = []\n",
    "    \n",
    "    for genres in df_amazon['listed_in']:\n",
    "        genre = genres.split(',')\n",
    "        for splited_genre in genre:\n",
    "            amazon_genre.append(splited_genre.strip())\n",
    "        \n",
    "    listed_in_by_platform.append(('Amazon',amazon_genre.count(genero)))\n",
    "    \n",
    "    for genres in df_hulu['listed_in']:\n",
    "        genre = genres.split(',')\n",
    "        for splited_genre in genre:\n",
    "            hulu_genre.append(splited_genre.strip())\n",
    "        \n",
    "    listed_in_by_platform.append(('Hulu',hulu_genre.count(genero)))\n",
    "    \n",
    "    for genres in df_disney['listed_in']:\n",
    "        genre = genres.split(',')\n",
    "        for splited_genre in genre:\n",
    "            disney_genre.append(splited_genre.strip())\n",
    "        \n",
    "    listed_in_by_platform.append(('Disney',disney_genre.count(genero)))\n",
    "    \n",
    "    \n",
    "    for genres in df_netflix['listed_in']:\n",
    "        genre = genres.split(',')\n",
    "        for splited_genre in genre:\n",
    "            netflix_genre.append(splited_genre.strip())\n",
    "        \n",
    "    listed_in_by_platform.append(('Netflix',netflix_genre.count(genero)))\n",
    "    \n",
    "    result = max(listed_in_by_platform, key=lambda tup: tup[1])\n",
    "    \n",
    "    return {'platforma': result[0], 'cantidad': result[1]}"
   ]
  },
  {
   "cell_type": "code",
   "execution_count": 82,
   "metadata": {},
   "outputs": [
    {
     "data": {
      "text/plain": [
       "{'platforma': 'Amazon', 'cantidad': 2099}"
      ]
     },
     "execution_count": 82,
     "metadata": {},
     "output_type": "execute_result"
    }
   ],
   "source": [
    "get_listedin('Comedy')"
   ]
  },
  {
   "attachments": {},
   "cell_type": "markdown",
   "metadata": {},
   "source": [
    "Cantidad de películas y series (separado) por plataforma El request debe ser: get_count_plataform(plataforma)"
   ]
  },
  {
   "cell_type": "code",
   "execution_count": 79,
   "metadata": {},
   "outputs": [],
   "source": [
    "def get_count_plataform(platform):\n",
    "    df = pd.read_csv('Datasets/all_frames.csv')\n",
    "    df.drop(columns='Unnamed: 0', inplace=True)\n",
    "    df = df.loc[df.platform == platform]\n",
    "    df_movies = df.loc[df.type == 'Movie'] \n",
    "    df_series= df.loc[df.type == 'TV Show'] \n",
    "    \n",
    "    return {'platforma': platform, 'movie': len(df_movies), 'tvshow': len(df_series)}"
   ]
  },
  {
   "cell_type": "code",
   "execution_count": 80,
   "metadata": {},
   "outputs": [
    {
     "data": {
      "text/plain": [
       "{'platforma': 'Netflix', 'movie': 6131, 'tvshow': 2676}"
      ]
     },
     "execution_count": 80,
     "metadata": {},
     "output_type": "execute_result"
    }
   ],
   "source": [
    "get_count_plataform('Netflix')"
   ]
  },
  {
   "attachments": {},
   "cell_type": "markdown",
   "metadata": {},
   "source": [
    "Actor que más se repite según plataforma y año. El request debe ser: get_actor(plataforma, año)"
   ]
  },
  {
   "cell_type": "code",
   "execution_count": 146,
   "metadata": {},
   "outputs": [],
   "source": [
    "def get_actor(platform,year):\n",
    "    df = pd.read_csv('Datasets/all_frames.csv')\n",
    "    df.drop(columns='Unnamed: 0', inplace=True)\n",
    "    df = df.loc[(df.release_year == year) & (df.platform == platform)]\n",
    "    \n",
    "    all_actors_list = []\n",
    "    \n",
    "    for actors in df.cast:\n",
    "        if type(actors) == float:\n",
    "            continue\n",
    "        else:\n",
    "            splited_actors = actors.split(',')\n",
    "            for striped_actor in splited_actors:\n",
    "                all_actors_list.append(striped_actor.strip())\n",
    "            \n",
    "    all_actors_list = Counter(all_actors_list)\n",
    "    result = all_actors_list.most_common()[0]\n",
    "    \n",
    "    return {'platform': platform, 'cantidad': result[1], 'actores':result[0]}"
   ]
  },
  {
   "cell_type": "code",
   "execution_count": 153,
   "metadata": {},
   "outputs": [
    {
     "data": {
      "text/plain": [
       "{'platform': 'Netflix', 'cantidad': 8, 'actores': 'Andrea Libman'}"
      ]
     },
     "execution_count": 153,
     "metadata": {},
     "output_type": "execute_result"
    }
   ],
   "source": [
    "get_actor('Netflix',2018)"
   ]
  }
 ],
 "metadata": {
  "kernelspec": {
   "display_name": "Python 3.10.6 64-bit",
   "language": "python",
   "name": "python3"
  },
  "language_info": {
   "codemirror_mode": {
    "name": "ipython",
    "version": 3
   },
   "file_extension": ".py",
   "mimetype": "text/x-python",
   "name": "python",
   "nbconvert_exporter": "python",
   "pygments_lexer": "ipython3",
   "version": "3.10.6 (tags/v3.10.6:9c7b4bd, Aug  1 2022, 21:53:49) [MSC v.1932 64 bit (AMD64)]"
  },
  "orig_nbformat": 4,
  "vscode": {
   "interpreter": {
    "hash": "dd62b2251affafe53e53d829791dddc9ce29f3f77174d02d011b68f10e3ab806"
   }
  }
 },
 "nbformat": 4,
 "nbformat_minor": 2
}
