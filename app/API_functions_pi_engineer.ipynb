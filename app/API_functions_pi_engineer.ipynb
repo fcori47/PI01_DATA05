{
 "cells": [
  {
   "cell_type": "code",
   "execution_count": 114,
   "metadata": {},
   "outputs": [],
   "source": [
    "import pandas as pd\n",
    "import numpy as np\n",
    "from collections import Counter"
   ]
  },
  {
   "cell_type": "code",
   "execution_count": 2,
   "metadata": {},
   "outputs": [
    {
     "data": {
      "text/html": [
       "<div>\n",
       "<style scoped>\n",
       "    .dataframe tbody tr th:only-of-type {\n",
       "        vertical-align: middle;\n",
       "    }\n",
       "\n",
       "    .dataframe tbody tr th {\n",
       "        vertical-align: top;\n",
       "    }\n",
       "\n",
       "    .dataframe thead th {\n",
       "        text-align: right;\n",
       "    }\n",
       "</style>\n",
       "<table border=\"1\" class=\"dataframe\">\n",
       "  <thead>\n",
       "    <tr style=\"text-align: right;\">\n",
       "      <th></th>\n",
       "      <th>show_id</th>\n",
       "      <th>type</th>\n",
       "      <th>title</th>\n",
       "      <th>director</th>\n",
       "      <th>cast</th>\n",
       "      <th>country</th>\n",
       "      <th>date_added</th>\n",
       "      <th>release_year</th>\n",
       "      <th>rating</th>\n",
       "      <th>duration</th>\n",
       "      <th>listed_in</th>\n",
       "      <th>description</th>\n",
       "      <th>platform</th>\n",
       "    </tr>\n",
       "  </thead>\n",
       "  <tbody>\n",
       "    <tr>\n",
       "      <th>0</th>\n",
       "      <td>1</td>\n",
       "      <td>Movie</td>\n",
       "      <td>The Grand Seduction</td>\n",
       "      <td>Don McKellar</td>\n",
       "      <td>Brendan Gleeson, Taylor Kitsch, Gordon Pinsent</td>\n",
       "      <td>Canada</td>\n",
       "      <td>2021-03-30</td>\n",
       "      <td>2014</td>\n",
       "      <td>TV-G</td>\n",
       "      <td>113 min</td>\n",
       "      <td>Comedy, Drama</td>\n",
       "      <td>A small fishing village must procure a local d...</td>\n",
       "      <td>Amazon Prime</td>\n",
       "    </tr>\n",
       "    <tr>\n",
       "      <th>1</th>\n",
       "      <td>2</td>\n",
       "      <td>Movie</td>\n",
       "      <td>Take Care Good Night</td>\n",
       "      <td>Girish Joshi</td>\n",
       "      <td>Mahesh Manjrekar, Abhay Mahajan, Sachin Khedekar</td>\n",
       "      <td>India</td>\n",
       "      <td>2021-03-30</td>\n",
       "      <td>2018</td>\n",
       "      <td>13+</td>\n",
       "      <td>110 min</td>\n",
       "      <td>Drama, International</td>\n",
       "      <td>A Metro Family decides to fight a Cyber Crimin...</td>\n",
       "      <td>Amazon Prime</td>\n",
       "    </tr>\n",
       "    <tr>\n",
       "      <th>2</th>\n",
       "      <td>3</td>\n",
       "      <td>Movie</td>\n",
       "      <td>Secrets Of Deception</td>\n",
       "      <td>Josh Webber</td>\n",
       "      <td>Tom Sizemore, Lorenzo Lamas, Robert Lasardo, R...</td>\n",
       "      <td>United States</td>\n",
       "      <td>2021-03-30</td>\n",
       "      <td>2017</td>\n",
       "      <td>TV-G</td>\n",
       "      <td>74 min</td>\n",
       "      <td>Action, Drama, Suspense</td>\n",
       "      <td>After a man discovers his wife is cheating on ...</td>\n",
       "      <td>Amazon Prime</td>\n",
       "    </tr>\n",
       "    <tr>\n",
       "      <th>3</th>\n",
       "      <td>4</td>\n",
       "      <td>Movie</td>\n",
       "      <td>Pink: Staying True</td>\n",
       "      <td>Sonia Anderson</td>\n",
       "      <td>Interviews With: Pink, Adele, Beyoncé, Britney...</td>\n",
       "      <td>United States</td>\n",
       "      <td>2021-03-30</td>\n",
       "      <td>2014</td>\n",
       "      <td>TV-PG</td>\n",
       "      <td>69 min</td>\n",
       "      <td>Documentary</td>\n",
       "      <td>Pink breaks the mold once again, bringing her ...</td>\n",
       "      <td>Amazon Prime</td>\n",
       "    </tr>\n",
       "    <tr>\n",
       "      <th>4</th>\n",
       "      <td>5</td>\n",
       "      <td>Movie</td>\n",
       "      <td>Monster Maker</td>\n",
       "      <td>Giles Foster</td>\n",
       "      <td>Harry Dean Stanton, Kieran O'Brien, George Cos...</td>\n",
       "      <td>United Kingdom</td>\n",
       "      <td>2021-03-30</td>\n",
       "      <td>1989</td>\n",
       "      <td>TV-MA</td>\n",
       "      <td>45 min</td>\n",
       "      <td>Drama, Fantasy</td>\n",
       "      <td>Teenage Matt Banting wants to work with a famo...</td>\n",
       "      <td>Amazon Prime</td>\n",
       "    </tr>\n",
       "    <tr>\n",
       "      <th>...</th>\n",
       "      <td>...</td>\n",
       "      <td>...</td>\n",
       "      <td>...</td>\n",
       "      <td>...</td>\n",
       "      <td>...</td>\n",
       "      <td>...</td>\n",
       "      <td>...</td>\n",
       "      <td>...</td>\n",
       "      <td>...</td>\n",
       "      <td>...</td>\n",
       "      <td>...</td>\n",
       "      <td>...</td>\n",
       "      <td>...</td>\n",
       "    </tr>\n",
       "    <tr>\n",
       "      <th>22993</th>\n",
       "      <td>8803</td>\n",
       "      <td>Movie</td>\n",
       "      <td>Zodiac</td>\n",
       "      <td>David Fincher</td>\n",
       "      <td>Mark Ruffalo, Jake Gyllenhaal, Robert Downey J...</td>\n",
       "      <td>United States</td>\n",
       "      <td>2019-11-20</td>\n",
       "      <td>2007</td>\n",
       "      <td>R</td>\n",
       "      <td>158 min</td>\n",
       "      <td>Cult Movies, Dramas, Thrillers</td>\n",
       "      <td>A political cartoonist, a crime reporter and a...</td>\n",
       "      <td>Netflix</td>\n",
       "    </tr>\n",
       "    <tr>\n",
       "      <th>22994</th>\n",
       "      <td>8804</td>\n",
       "      <td>TV Show</td>\n",
       "      <td>Zombie Dumb</td>\n",
       "      <td>NaN</td>\n",
       "      <td>NaN</td>\n",
       "      <td>NaN</td>\n",
       "      <td>2019-07-01</td>\n",
       "      <td>2018</td>\n",
       "      <td>TV-Y7</td>\n",
       "      <td>2 Seasons</td>\n",
       "      <td>Kids' TV, Korean TV Shows, TV Comedies</td>\n",
       "      <td>While living alone in a spooky town, a young g...</td>\n",
       "      <td>Netflix</td>\n",
       "    </tr>\n",
       "    <tr>\n",
       "      <th>22995</th>\n",
       "      <td>8805</td>\n",
       "      <td>Movie</td>\n",
       "      <td>Zombieland</td>\n",
       "      <td>Ruben Fleischer</td>\n",
       "      <td>Jesse Eisenberg, Woody Harrelson, Emma Stone, ...</td>\n",
       "      <td>United States</td>\n",
       "      <td>2019-11-01</td>\n",
       "      <td>2009</td>\n",
       "      <td>R</td>\n",
       "      <td>88 min</td>\n",
       "      <td>Comedies, Horror Movies</td>\n",
       "      <td>Looking to survive in a world taken over by zo...</td>\n",
       "      <td>Netflix</td>\n",
       "    </tr>\n",
       "    <tr>\n",
       "      <th>22996</th>\n",
       "      <td>8806</td>\n",
       "      <td>Movie</td>\n",
       "      <td>Zoom</td>\n",
       "      <td>Peter Hewitt</td>\n",
       "      <td>Tim Allen, Courteney Cox, Chevy Chase, Kate Ma...</td>\n",
       "      <td>United States</td>\n",
       "      <td>2020-01-11</td>\n",
       "      <td>2006</td>\n",
       "      <td>PG</td>\n",
       "      <td>88 min</td>\n",
       "      <td>Children &amp; Family Movies, Comedies</td>\n",
       "      <td>Dragged from civilian life, a former superhero...</td>\n",
       "      <td>Netflix</td>\n",
       "    </tr>\n",
       "    <tr>\n",
       "      <th>22997</th>\n",
       "      <td>8807</td>\n",
       "      <td>Movie</td>\n",
       "      <td>Zubaan</td>\n",
       "      <td>Mozez Singh</td>\n",
       "      <td>Vicky Kaushal, Sarah-Jane Dias, Raaghav Chanan...</td>\n",
       "      <td>India</td>\n",
       "      <td>2019-03-02</td>\n",
       "      <td>2015</td>\n",
       "      <td>TV-14</td>\n",
       "      <td>111 min</td>\n",
       "      <td>Dramas, International Movies, Music &amp; Musicals</td>\n",
       "      <td>A scrappy but poor boy worms his way into a ty...</td>\n",
       "      <td>Netflix</td>\n",
       "    </tr>\n",
       "  </tbody>\n",
       "</table>\n",
       "<p>22998 rows × 13 columns</p>\n",
       "</div>"
      ],
      "text/plain": [
       "       show_id     type                 title         director  \\\n",
       "0            1    Movie   The Grand Seduction     Don McKellar   \n",
       "1            2    Movie  Take Care Good Night     Girish Joshi   \n",
       "2            3    Movie  Secrets Of Deception      Josh Webber   \n",
       "3            4    Movie    Pink: Staying True   Sonia Anderson   \n",
       "4            5    Movie         Monster Maker     Giles Foster   \n",
       "...        ...      ...                   ...              ...   \n",
       "22993     8803    Movie                Zodiac    David Fincher   \n",
       "22994     8804  TV Show           Zombie Dumb              NaN   \n",
       "22995     8805    Movie            Zombieland  Ruben Fleischer   \n",
       "22996     8806    Movie                  Zoom     Peter Hewitt   \n",
       "22997     8807    Movie                Zubaan      Mozez Singh   \n",
       "\n",
       "                                                    cast         country  \\\n",
       "0         Brendan Gleeson, Taylor Kitsch, Gordon Pinsent          Canada   \n",
       "1       Mahesh Manjrekar, Abhay Mahajan, Sachin Khedekar           India   \n",
       "2      Tom Sizemore, Lorenzo Lamas, Robert Lasardo, R...   United States   \n",
       "3      Interviews With: Pink, Adele, Beyoncé, Britney...   United States   \n",
       "4      Harry Dean Stanton, Kieran O'Brien, George Cos...  United Kingdom   \n",
       "...                                                  ...             ...   \n",
       "22993  Mark Ruffalo, Jake Gyllenhaal, Robert Downey J...   United States   \n",
       "22994                                                NaN             NaN   \n",
       "22995  Jesse Eisenberg, Woody Harrelson, Emma Stone, ...   United States   \n",
       "22996  Tim Allen, Courteney Cox, Chevy Chase, Kate Ma...   United States   \n",
       "22997  Vicky Kaushal, Sarah-Jane Dias, Raaghav Chanan...           India   \n",
       "\n",
       "       date_added  release_year rating   duration  \\\n",
       "0      2021-03-30          2014   TV-G    113 min   \n",
       "1      2021-03-30          2018    13+    110 min   \n",
       "2      2021-03-30          2017   TV-G     74 min   \n",
       "3      2021-03-30          2014  TV-PG     69 min   \n",
       "4      2021-03-30          1989  TV-MA     45 min   \n",
       "...           ...           ...    ...        ...   \n",
       "22993  2019-11-20          2007      R    158 min   \n",
       "22994  2019-07-01          2018  TV-Y7  2 Seasons   \n",
       "22995  2019-11-01          2009      R     88 min   \n",
       "22996  2020-01-11          2006     PG     88 min   \n",
       "22997  2019-03-02          2015  TV-14    111 min   \n",
       "\n",
       "                                            listed_in  \\\n",
       "0                                       Comedy, Drama   \n",
       "1                                Drama, International   \n",
       "2                             Action, Drama, Suspense   \n",
       "3                                         Documentary   \n",
       "4                                      Drama, Fantasy   \n",
       "...                                               ...   \n",
       "22993                  Cult Movies, Dramas, Thrillers   \n",
       "22994          Kids' TV, Korean TV Shows, TV Comedies   \n",
       "22995                         Comedies, Horror Movies   \n",
       "22996              Children & Family Movies, Comedies   \n",
       "22997  Dramas, International Movies, Music & Musicals   \n",
       "\n",
       "                                             description      platform  \n",
       "0      A small fishing village must procure a local d...  Amazon Prime  \n",
       "1      A Metro Family decides to fight a Cyber Crimin...  Amazon Prime  \n",
       "2      After a man discovers his wife is cheating on ...  Amazon Prime  \n",
       "3      Pink breaks the mold once again, bringing her ...  Amazon Prime  \n",
       "4      Teenage Matt Banting wants to work with a famo...  Amazon Prime  \n",
       "...                                                  ...           ...  \n",
       "22993  A political cartoonist, a crime reporter and a...       Netflix  \n",
       "22994  While living alone in a spooky town, a young g...       Netflix  \n",
       "22995  Looking to survive in a world taken over by zo...       Netflix  \n",
       "22996  Dragged from civilian life, a former superhero...       Netflix  \n",
       "22997  A scrappy but poor boy worms his way into a ty...       Netflix  \n",
       "\n",
       "[22998 rows x 13 columns]"
      ]
     },
     "execution_count": 2,
     "metadata": {},
     "output_type": "execute_result"
    }
   ],
   "source": [
    "df = pd.read_csv('Datasets/all_frames.csv')\n",
    "df.drop(columns='Unnamed: 0', inplace=True)\n",
    "df"
   ]
  },
  {
   "cell_type": "code",
   "execution_count": 3,
   "metadata": {},
   "outputs": [
    {
     "data": {
      "text/plain": [
       "Amazon Prime    9668\n",
       "Netflix         8807\n",
       "Hulu            3073\n",
       "Disney+         1450\n",
       "Name: platform, dtype: int64"
      ]
     },
     "execution_count": 3,
     "metadata": {},
     "output_type": "execute_result"
    }
   ],
   "source": [
    "df.platform.value_counts()"
   ]
  },
  {
   "cell_type": "markdown",
   "metadata": {},
   "source": [
    "Máxima duración según tipo de film (película/serie), por plataforma y por año: El request debe ser: get_max_duration(año, plataforma, [min o season])"
   ]
  },
  {
   "cell_type": "code",
   "execution_count": 4,
   "metadata": {},
   "outputs": [],
   "source": [
    "def separation (column):\n",
    "    test = []\n",
    "    for item in column:\n",
    "        splited_item = item.split(' ')\n",
    "        test.append(int(splited_item[0]))\n",
    "        \n",
    "    return test"
   ]
  },
  {
   "cell_type": "code",
   "execution_count": 75,
   "metadata": {},
   "outputs": [],
   "source": [
    "def get_max_duration(year:int, platform:str, min_or_season:str):\n",
    "    df = pd.read_csv('Datasets/all_frames.csv')\n",
    "    df.drop(columns='Unnamed: 0', inplace=True)\n",
    "    df.duration = pd.Series(separation(df.duration))\n",
    "    df = df.loc[(df.release_year == year) & (df.platform == platform)]\n",
    "    \n",
    "    if min_or_season == 'min':\n",
    "        df = df.loc[df.type == 'Movie']\n",
    "    elif min_or_season == 'season':\n",
    "        df = df.loc[df.type == 'TV Show']\n",
    "    \n",
    "    result = df.sort_values(by='duration', ascending=False).head(1)\n",
    "    \n",
    "    for resultado in result.title: \n",
    "        return {'titulo': resultado}\n",
    "    "
   ]
  },
  {
   "cell_type": "code",
   "execution_count": 76,
   "metadata": {},
   "outputs": [
    {
     "data": {
      "text/plain": [
       "{'titulo': 'The House That Jack Built'}"
      ]
     },
     "execution_count": 76,
     "metadata": {},
     "output_type": "execute_result"
    }
   ],
   "source": [
    "get_max_duration(2018, 'Hulu', 'min')"
   ]
  },
  {
   "attachments": {},
   "cell_type": "markdown",
   "metadata": {},
   "source": [
    "Cantidad de veces que se repite un género y plataforma con mayor frecuencia del mismo. El request debe ser: get_listedin('genero')\n",
    "Como ejemplo de género pueden usar 'comedy', el cuál deberia devolverles un cunt de 2099 para la plataforma de amazon."
   ]
  },
  {
   "cell_type": "code",
   "execution_count": 59,
   "metadata": {},
   "outputs": [],
   "source": [
    "def get_listedin(genero):\n",
    "    df = pd.read_csv('Datasets/all_frames.csv')\n",
    "    df.drop(columns='Unnamed: 0', inplace=True)\n",
    "    df_amazon = df.loc[df.platform == 'Amazon Prime']\n",
    "    df_disney = df.loc[df.platform == 'Disney+']\n",
    "    df_hulu = df.loc[df.platform == 'Hulu']\n",
    "    df_netflix = df.loc[df.platform == 'Netflix']\n",
    "    \n",
    "    listed_in_by_platform = []\n",
    "    amazon_genre = []\n",
    "    netflix_genre = []\n",
    "    hulu_genre = []\n",
    "    disney_genre = []\n",
    "    \n",
    "    for genres in df_amazon['listed_in']:\n",
    "        genre = genres.split(',')\n",
    "        for splited_genre in genre:\n",
    "            amazon_genre.append(splited_genre.strip())\n",
    "        \n",
    "    listed_in_by_platform.append(('Amazon',amazon_genre.count(genero)))\n",
    "    \n",
    "    for genres in df_hulu['listed_in']:\n",
    "        genre = genres.split(',')\n",
    "        for splited_genre in genre:\n",
    "            hulu_genre.append(splited_genre.strip())\n",
    "        \n",
    "    listed_in_by_platform.append(('Hulu',hulu_genre.count(genero)))\n",
    "    \n",
    "    for genres in df_disney['listed_in']:\n",
    "        genre = genres.split(',')\n",
    "        for splited_genre in genre:\n",
    "            disney_genre.append(splited_genre.strip())\n",
    "        \n",
    "    listed_in_by_platform.append(('Disney',disney_genre.count(genero)))\n",
    "    \n",
    "    \n",
    "    for genres in df_netflix['listed_in']:\n",
    "        genre = genres.split(',')\n",
    "        for splited_genre in genre:\n",
    "            netflix_genre.append(splited_genre.strip())\n",
    "        \n",
    "    listed_in_by_platform.append(('Netflix',netflix_genre.count(genero)))\n",
    "    \n",
    "    result = max(listed_in_by_platform, key=lambda tup: tup[1])\n",
    "    \n",
    "    return {'platforma': result[0], 'cantidad': result[1]}"
   ]
  },
  {
   "cell_type": "code",
   "execution_count": 82,
   "metadata": {},
   "outputs": [
    {
     "data": {
      "text/plain": [
       "{'platforma': 'Amazon', 'cantidad': 2099}"
      ]
     },
     "execution_count": 82,
     "metadata": {},
     "output_type": "execute_result"
    }
   ],
   "source": [
    "get_listedin('Comedy')"
   ]
  },
  {
   "attachments": {},
   "cell_type": "markdown",
   "metadata": {},
   "source": [
    "Cantidad de películas y series (separado) por plataforma El request debe ser: get_count_plataform(plataforma)"
   ]
  },
  {
   "cell_type": "code",
   "execution_count": 79,
   "metadata": {},
   "outputs": [],
   "source": [
    "def get_count_plataform(platform):\n",
    "    df = pd.read_csv('Datasets/all_frames.csv')\n",
    "    df.drop(columns='Unnamed: 0', inplace=True)\n",
    "    df = df.loc[df.platform == platform]\n",
    "    df_movies = df.loc[df.type == 'Movie'] \n",
    "    df_series= df.loc[df.type == 'TV Show'] \n",
    "    \n",
    "    return {'platforma': platform, 'movie': len(df_movies), 'tvshow': len(df_series)}"
   ]
  },
  {
   "cell_type": "code",
   "execution_count": 80,
   "metadata": {},
   "outputs": [
    {
     "data": {
      "text/plain": [
       "{'platforma': 'Netflix', 'movie': 6131, 'tvshow': 2676}"
      ]
     },
     "execution_count": 80,
     "metadata": {},
     "output_type": "execute_result"
    }
   ],
   "source": [
    "get_count_plataform('Netflix')"
   ]
  },
  {
   "attachments": {},
   "cell_type": "markdown",
   "metadata": {},
   "source": [
    "Actor que más se repite según plataforma y año. El request debe ser: get_actor(plataforma, año)"
   ]
  },
  {
   "cell_type": "code",
   "execution_count": 146,
   "metadata": {},
   "outputs": [],
   "source": [
    "def get_actor(platform,year):\n",
    "    df = pd.read_csv('Datasets/all_frames.csv')\n",
    "    df.drop(columns='Unnamed: 0', inplace=True)\n",
    "    df = df.loc[(df.release_year == year) & (df.platform == platform)]\n",
    "    \n",
    "    all_actors_list = []\n",
    "    \n",
    "    for actors in df.cast:\n",
    "        if type(actors) == float:\n",
    "            continue\n",
    "        else:\n",
    "            splited_actors = actors.split(',')\n",
    "            for striped_actor in splited_actors:\n",
    "                all_actors_list.append(striped_actor.strip())\n",
    "            \n",
    "    all_actors_list = Counter(all_actors_list)\n",
    "    result = all_actors_list.most_common()[0]\n",
    "    \n",
    "    return {'platform': platform, 'cantidad': result[1], 'actores':result[0]}"
   ]
  },
  {
   "cell_type": "code",
   "execution_count": 153,
   "metadata": {},
   "outputs": [
    {
     "data": {
      "text/plain": [
       "{'platform': 'Netflix', 'cantidad': 8, 'actores': 'Andrea Libman'}"
      ]
     },
     "execution_count": 153,
     "metadata": {},
     "output_type": "execute_result"
    }
   ],
   "source": [
    "get_actor('Netflix',2018)"
   ]
  },
  {
   "cell_type": "code",
   "execution_count": null,
   "metadata": {},
   "outputs": [],
   "source": []
  }
 ],
 "metadata": {
  "kernelspec": {
   "display_name": "Python 3.10.6 64-bit",
   "language": "python",
   "name": "python3"
  },
  "language_info": {
   "codemirror_mode": {
    "name": "ipython",
    "version": 3
   },
   "file_extension": ".py",
   "mimetype": "text/x-python",
   "name": "python",
   "nbconvert_exporter": "python",
   "pygments_lexer": "ipython3",
   "version": "3.10.6 (tags/v3.10.6:9c7b4bd, Aug  1 2022, 21:53:49) [MSC v.1932 64 bit (AMD64)]"
  },
  "orig_nbformat": 4,
  "vscode": {
   "interpreter": {
    "hash": "dd62b2251affafe53e53d829791dddc9ce29f3f77174d02d011b68f10e3ab806"
   }
  }
 },
 "nbformat": 4,
 "nbformat_minor": 2
}
